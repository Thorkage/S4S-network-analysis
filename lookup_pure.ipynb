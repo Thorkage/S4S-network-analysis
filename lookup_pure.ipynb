{
 "cells": [
  {
   "cell_type": "code",
   "execution_count": 1,
   "metadata": {},
   "outputs": [],
   "source": [
    "import pandas as pd\n",
    "import numpy as np\n",
    "import difflib\n",
    "from fuzzywuzzy import fuzz\n",
    "\n",
    "def append_row(df, row):\n",
    "    return pd.concat([\n",
    "                df, \n",
    "                pd.DataFrame([row], columns=row.index)]\n",
    "           ).reset_index(drop=True)\n",
    "                         "
   ]
  },
  {
   "cell_type": "code",
   "execution_count": 2,
   "metadata": {},
   "outputs": [],
   "source": [
    "df_names = pd.read_csv('people_in_S4S.csv',index_col='Index')\n",
    "# df_names['fullname_abb'] = df_names['firstname'].apply(lambda x: x[0].upper() + '.') + ' ' + df_names['lastname']\n",
    "del df_names['faculty'], df_names['department']"
   ]
  },
  {
   "cell_type": "code",
   "execution_count": 3,
   "metadata": {},
   "outputs": [
    {
     "name": "stderr",
     "output_type": "stream",
     "text": [
      "c:\\Users\\torbj\\.conda\\envs\\newenv\\Lib\\site-packages\\openpyxl\\styles\\stylesheet.py:226: UserWarning: Workbook contains no default style, apply openpyxl's default\n",
      "  warn(\"Workbook contains no default style, apply openpyxl's default\")\n"
     ]
    }
   ],
   "source": [
    "#read and format the PURE data\n",
    "col_names = ['solisID','pureID','lastname','firstname', 'scopusID','orcID', 'jobtitle','organisationalUnit','numberResearchOutputs','sampleTitle','sampleDOI','sampleType']\n",
    "df_pure = pd.read_excel('pure_data.xlsx',names=col_names,keep_default_na='')\n",
    "df_pure['firstname'] = df_pure['firstname'].apply(lambda x: 'no firstname' if len(str(x)) == 0 else str(x).split(',')[-1].strip()+ ' ')\n",
    "df_pure['fullname'] = df_pure['firstname'] + df_pure['lastname']\n",
    "df_pure.fillna('',inplace=True)"
   ]
  },
  {
   "cell_type": "code",
   "execution_count": 4,
   "metadata": {},
   "outputs": [],
   "source": [
    "#using fuzzywuzzy to compare names on the list (people_in_S4S) with people in PURE. \n",
    "tuples_list = [max([(fuzz.token_set_ratio(i,j),j) for j in df_pure['fullname']]) for i in df_names['fullname']]"
   ]
  },
  {
   "cell_type": "code",
   "execution_count": 10,
   "metadata": {},
   "outputs": [],
   "source": [
    "similarity_score, fuzzy_match = map(list,zip(*tuples_list))\n",
    "df_fuzzymatch = pd.DataFrame({\"fullname\":df_names['fullname'], \"fuzzyMatch\": fuzzy_match, \"similarityScore\":similarity_score,'source':df_names['source']})\n",
    "df_fuzzymatch['fuzzyMatch'] = df_fuzzymatch['fuzzyMatch'].apply(lambda x: str(x).strip())\n",
    "\n",
    "#the list loaded in the next line is a list which involved the manual lookup of names (with low similarity scores)\n",
    "# df_lookup = pd.read_csv(\"lookup_table_new.csv\",encoding='utf-16',delimiter='\\t',index_col=[0]).sort_index()\n",
    "# df_fuzzymatch['note'] = df_lookup['note']"
   ]
  },
  {
   "cell_type": "code",
   "execution_count": 11,
   "metadata": {},
   "outputs": [],
   "source": [
    "df_fuzzymatch = df_fuzzymatch[df_fuzzymatch['similarityScore'] > 95]\n",
    "df_fuzzymatch.drop_duplicates(subset='fuzzyMatch',keep='first',inplace=True)\n",
    "df_fuzzymatch.reset_index(drop=True,inplace=True)\n"
   ]
  },
  {
   "cell_type": "code",
   "execution_count": 12,
   "metadata": {},
   "outputs": [],
   "source": [
    "\n",
    "df_reduced = df_pure.set_index('fullname').loc[df_fuzzymatch['fuzzyMatch'].to_list()].reset_index()\n",
    "df_reduced = df_reduced.drop_duplicates('fullname').sort_index() #sort_values('numberResearchOutputs', ascending=False\n",
    "df_reduced.reset_index(drop=True,inplace=True)\n",
    "df_reduced['source'] = df_fuzzymatch['source']\n",
    "\n",
    "df_reduced.to_csv('people_in_S4S_pureFiltered.csv',index_label='Index')\n"
   ]
  },
  {
   "cell_type": "markdown",
   "metadata": {},
   "source": [
    "retrieving author information (similar to retrieve_orcid_scopusid.ipynb)"
   ]
  },
  {
   "cell_type": "code",
   "execution_count": 232,
   "metadata": {},
   "outputs": [],
   "source": [
    "import pandas as pd\n",
    "import numpy as np\n",
    "import matplotlib.pyplot as plt\n",
    "import requests\n",
    "from tqdm import tqdm\n",
    "import json\n",
    "client_orcid = open('orcid_config.json')\n",
    "client_orcid = json.load(client_orcid)\n",
    "\n",
    "client_scopus = open('scopus_config.json')\n",
    "client_scopus = json.load(client_scopus)\n",
    "\n",
    "df_persons = df_reduced\n",
    "\n",
    "#orcid start up\n",
    "client_id = client_orcid['client_id']\n",
    "client_secret = client_orcid['client_secret']\n",
    "\n",
    "resp = requests.post(url=\"https://orcid.org/oauth/token\",\n",
    "                     headers={'Accept':'application/json'},\n",
    "                     data={'client_id':client_id, 'client_secret':client_secret,'grant_type': 'client_credentials', 'scope':'/read-public'}\n",
    "                     )\n",
    "access_token = resp.json()['access_token']\n"
   ]
  },
  {
   "cell_type": "markdown",
   "metadata": {},
   "source": [
    "(1) Take scopusId provided by PURE"
   ]
  },
  {
   "cell_type": "markdown",
   "metadata": {},
   "source": [
    "(2) Retrieve scopusId with doi"
   ]
  },
  {
   "cell_type": "code",
   "execution_count": 202,
   "metadata": {},
   "outputs": [
    {
     "name": "stderr",
     "output_type": "stream",
     "text": [
      "100%|██████████| 109/109 [02:03<00:00,  1.13s/it]\n"
     ]
    }
   ],
   "source": [
    "for i in tqdm(df_persons[df_persons['scopusId'] == ''].index):\n",
    "    # if df_persons['sampleDoi'][i] != '':\n",
    "    first_name = df_persons['firstname'][i].strip()\n",
    "    last_name = df_persons['lastname'][i].strip()\n",
    "\n",
    "    resp = requests.get(url=f'http://api.elsevier.com/content/search/author?query=AUTHLASTNAME({last_name})+AND+AUTHFIRST({first_name})+AND+AFFIL(Utrecht)', \n",
    "            headers={'X-ELS-APIKey':client_scopus['apikey'], 'X-ELS-Insttoken':client_scopus['insttoken'], 'accept':'application/json'},)\n",
    "    try:\n",
    "        #saving the scopusid\n",
    "        scopus_id = resp.json()['search-results']['entry'][0]['dc:identifier'][10:]\n",
    "        df_persons['scopusId'].loc[i] = scopus_id\n",
    "    except:\n",
    "        df_persons['scopusId'].loc[i] = ''\n",
    "\n",
    "\n",
    "        #see if there is an orcid associated\n",
    "    try:\n",
    "        orcid =  resp.json()['search-results']['entry'][0]['orcid']\n",
    "        df_persons['orcid'].loc[i] = orcid            \n",
    "    except:\n",
    "        df_persons['orcid'].loc[i] = ''  \n"
   ]
  },
  {
   "cell_type": "code",
   "execution_count": 302,
   "metadata": {},
   "outputs": [],
   "source": [
    "df_persons.to_csv('person_names_from_pure.csv')\n"
   ]
  },
  {
   "cell_type": "markdown",
   "metadata": {},
   "source": [
    "(3) Retrieve scopusId with NAME and AFFIL and KEYWORD(?)"
   ]
  },
  {
   "cell_type": "code",
   "execution_count": null,
   "metadata": {},
   "outputs": [],
   "source": []
  },
  {
   "cell_type": "markdown",
   "metadata": {},
   "source": [
    "FIGURES"
   ]
  },
  {
   "cell_type": "code",
   "execution_count": 241,
   "metadata": {},
   "outputs": [],
   "source": [
    "df_persons = pd.read_csv('person_names_from_pure.csv',keep_default_na=False,index_col=[0])\n"
   ]
  },
  {
   "cell_type": "code",
   "execution_count": 243,
   "metadata": {},
   "outputs": [
    {
     "data": {
      "application/vnd.plotly.v1+json": {
       "config": {
        "plotlyServerURL": "https://plotly.com"
       },
       "data": [
        {
         "link": {
          "source": [
           0,
           0,
           1,
           1,
           2,
           2,
           3,
           3
          ],
          "target": [
           2,
           3,
           2,
           3,
           4,
           5,
           4,
           5
          ],
          "value": [
           116,
           55,
           92,
           6,
           149,
           59,
           0,
           61
          ]
         },
         "node": {
          "color": [
           "skyblue",
           "violet",
           "#8ED973",
           "salmon",
           "forestgreen",
           "firebrick"
          ],
          "pad": 25,
          "thickness": 30
         },
         "type": "sankey"
        }
       ],
       "layout": {
        "autosize": false,
        "height": 700,
        "template": {
         "data": {
          "bar": [
           {
            "error_x": {
             "color": "#2a3f5f"
            },
            "error_y": {
             "color": "#2a3f5f"
            },
            "marker": {
             "line": {
              "color": "#E5ECF6",
              "width": 0.5
             },
             "pattern": {
              "fillmode": "overlay",
              "size": 10,
              "solidity": 0.2
             }
            },
            "type": "bar"
           }
          ],
          "barpolar": [
           {
            "marker": {
             "line": {
              "color": "#E5ECF6",
              "width": 0.5
             },
             "pattern": {
              "fillmode": "overlay",
              "size": 10,
              "solidity": 0.2
             }
            },
            "type": "barpolar"
           }
          ],
          "carpet": [
           {
            "aaxis": {
             "endlinecolor": "#2a3f5f",
             "gridcolor": "white",
             "linecolor": "white",
             "minorgridcolor": "white",
             "startlinecolor": "#2a3f5f"
            },
            "baxis": {
             "endlinecolor": "#2a3f5f",
             "gridcolor": "white",
             "linecolor": "white",
             "minorgridcolor": "white",
             "startlinecolor": "#2a3f5f"
            },
            "type": "carpet"
           }
          ],
          "choropleth": [
           {
            "colorbar": {
             "outlinewidth": 0,
             "ticks": ""
            },
            "type": "choropleth"
           }
          ],
          "contour": [
           {
            "colorbar": {
             "outlinewidth": 0,
             "ticks": ""
            },
            "colorscale": [
             [
              0,
              "#0d0887"
             ],
             [
              0.1111111111111111,
              "#46039f"
             ],
             [
              0.2222222222222222,
              "#7201a8"
             ],
             [
              0.3333333333333333,
              "#9c179e"
             ],
             [
              0.4444444444444444,
              "#bd3786"
             ],
             [
              0.5555555555555556,
              "#d8576b"
             ],
             [
              0.6666666666666666,
              "#ed7953"
             ],
             [
              0.7777777777777778,
              "#fb9f3a"
             ],
             [
              0.8888888888888888,
              "#fdca26"
             ],
             [
              1,
              "#f0f921"
             ]
            ],
            "type": "contour"
           }
          ],
          "contourcarpet": [
           {
            "colorbar": {
             "outlinewidth": 0,
             "ticks": ""
            },
            "type": "contourcarpet"
           }
          ],
          "heatmap": [
           {
            "colorbar": {
             "outlinewidth": 0,
             "ticks": ""
            },
            "colorscale": [
             [
              0,
              "#0d0887"
             ],
             [
              0.1111111111111111,
              "#46039f"
             ],
             [
              0.2222222222222222,
              "#7201a8"
             ],
             [
              0.3333333333333333,
              "#9c179e"
             ],
             [
              0.4444444444444444,
              "#bd3786"
             ],
             [
              0.5555555555555556,
              "#d8576b"
             ],
             [
              0.6666666666666666,
              "#ed7953"
             ],
             [
              0.7777777777777778,
              "#fb9f3a"
             ],
             [
              0.8888888888888888,
              "#fdca26"
             ],
             [
              1,
              "#f0f921"
             ]
            ],
            "type": "heatmap"
           }
          ],
          "heatmapgl": [
           {
            "colorbar": {
             "outlinewidth": 0,
             "ticks": ""
            },
            "colorscale": [
             [
              0,
              "#0d0887"
             ],
             [
              0.1111111111111111,
              "#46039f"
             ],
             [
              0.2222222222222222,
              "#7201a8"
             ],
             [
              0.3333333333333333,
              "#9c179e"
             ],
             [
              0.4444444444444444,
              "#bd3786"
             ],
             [
              0.5555555555555556,
              "#d8576b"
             ],
             [
              0.6666666666666666,
              "#ed7953"
             ],
             [
              0.7777777777777778,
              "#fb9f3a"
             ],
             [
              0.8888888888888888,
              "#fdca26"
             ],
             [
              1,
              "#f0f921"
             ]
            ],
            "type": "heatmapgl"
           }
          ],
          "histogram": [
           {
            "marker": {
             "pattern": {
              "fillmode": "overlay",
              "size": 10,
              "solidity": 0.2
             }
            },
            "type": "histogram"
           }
          ],
          "histogram2d": [
           {
            "colorbar": {
             "outlinewidth": 0,
             "ticks": ""
            },
            "colorscale": [
             [
              0,
              "#0d0887"
             ],
             [
              0.1111111111111111,
              "#46039f"
             ],
             [
              0.2222222222222222,
              "#7201a8"
             ],
             [
              0.3333333333333333,
              "#9c179e"
             ],
             [
              0.4444444444444444,
              "#bd3786"
             ],
             [
              0.5555555555555556,
              "#d8576b"
             ],
             [
              0.6666666666666666,
              "#ed7953"
             ],
             [
              0.7777777777777778,
              "#fb9f3a"
             ],
             [
              0.8888888888888888,
              "#fdca26"
             ],
             [
              1,
              "#f0f921"
             ]
            ],
            "type": "histogram2d"
           }
          ],
          "histogram2dcontour": [
           {
            "colorbar": {
             "outlinewidth": 0,
             "ticks": ""
            },
            "colorscale": [
             [
              0,
              "#0d0887"
             ],
             [
              0.1111111111111111,
              "#46039f"
             ],
             [
              0.2222222222222222,
              "#7201a8"
             ],
             [
              0.3333333333333333,
              "#9c179e"
             ],
             [
              0.4444444444444444,
              "#bd3786"
             ],
             [
              0.5555555555555556,
              "#d8576b"
             ],
             [
              0.6666666666666666,
              "#ed7953"
             ],
             [
              0.7777777777777778,
              "#fb9f3a"
             ],
             [
              0.8888888888888888,
              "#fdca26"
             ],
             [
              1,
              "#f0f921"
             ]
            ],
            "type": "histogram2dcontour"
           }
          ],
          "mesh3d": [
           {
            "colorbar": {
             "outlinewidth": 0,
             "ticks": ""
            },
            "type": "mesh3d"
           }
          ],
          "parcoords": [
           {
            "line": {
             "colorbar": {
              "outlinewidth": 0,
              "ticks": ""
             }
            },
            "type": "parcoords"
           }
          ],
          "pie": [
           {
            "automargin": true,
            "type": "pie"
           }
          ],
          "scatter": [
           {
            "fillpattern": {
             "fillmode": "overlay",
             "size": 10,
             "solidity": 0.2
            },
            "type": "scatter"
           }
          ],
          "scatter3d": [
           {
            "line": {
             "colorbar": {
              "outlinewidth": 0,
              "ticks": ""
             }
            },
            "marker": {
             "colorbar": {
              "outlinewidth": 0,
              "ticks": ""
             }
            },
            "type": "scatter3d"
           }
          ],
          "scattercarpet": [
           {
            "marker": {
             "colorbar": {
              "outlinewidth": 0,
              "ticks": ""
             }
            },
            "type": "scattercarpet"
           }
          ],
          "scattergeo": [
           {
            "marker": {
             "colorbar": {
              "outlinewidth": 0,
              "ticks": ""
             }
            },
            "type": "scattergeo"
           }
          ],
          "scattergl": [
           {
            "marker": {
             "colorbar": {
              "outlinewidth": 0,
              "ticks": ""
             }
            },
            "type": "scattergl"
           }
          ],
          "scattermapbox": [
           {
            "marker": {
             "colorbar": {
              "outlinewidth": 0,
              "ticks": ""
             }
            },
            "type": "scattermapbox"
           }
          ],
          "scatterpolar": [
           {
            "marker": {
             "colorbar": {
              "outlinewidth": 0,
              "ticks": ""
             }
            },
            "type": "scatterpolar"
           }
          ],
          "scatterpolargl": [
           {
            "marker": {
             "colorbar": {
              "outlinewidth": 0,
              "ticks": ""
             }
            },
            "type": "scatterpolargl"
           }
          ],
          "scatterternary": [
           {
            "marker": {
             "colorbar": {
              "outlinewidth": 0,
              "ticks": ""
             }
            },
            "type": "scatterternary"
           }
          ],
          "surface": [
           {
            "colorbar": {
             "outlinewidth": 0,
             "ticks": ""
            },
            "colorscale": [
             [
              0,
              "#0d0887"
             ],
             [
              0.1111111111111111,
              "#46039f"
             ],
             [
              0.2222222222222222,
              "#7201a8"
             ],
             [
              0.3333333333333333,
              "#9c179e"
             ],
             [
              0.4444444444444444,
              "#bd3786"
             ],
             [
              0.5555555555555556,
              "#d8576b"
             ],
             [
              0.6666666666666666,
              "#ed7953"
             ],
             [
              0.7777777777777778,
              "#fb9f3a"
             ],
             [
              0.8888888888888888,
              "#fdca26"
             ],
             [
              1,
              "#f0f921"
             ]
            ],
            "type": "surface"
           }
          ],
          "table": [
           {
            "cells": {
             "fill": {
              "color": "#EBF0F8"
             },
             "line": {
              "color": "white"
             }
            },
            "header": {
             "fill": {
              "color": "#C8D4E3"
             },
             "line": {
              "color": "white"
             }
            },
            "type": "table"
           }
          ]
         },
         "layout": {
          "annotationdefaults": {
           "arrowcolor": "#2a3f5f",
           "arrowhead": 0,
           "arrowwidth": 1
          },
          "autotypenumbers": "strict",
          "coloraxis": {
           "colorbar": {
            "outlinewidth": 0,
            "ticks": ""
           }
          },
          "colorscale": {
           "diverging": [
            [
             0,
             "#8e0152"
            ],
            [
             0.1,
             "#c51b7d"
            ],
            [
             0.2,
             "#de77ae"
            ],
            [
             0.3,
             "#f1b6da"
            ],
            [
             0.4,
             "#fde0ef"
            ],
            [
             0.5,
             "#f7f7f7"
            ],
            [
             0.6,
             "#e6f5d0"
            ],
            [
             0.7,
             "#b8e186"
            ],
            [
             0.8,
             "#7fbc41"
            ],
            [
             0.9,
             "#4d9221"
            ],
            [
             1,
             "#276419"
            ]
           ],
           "sequential": [
            [
             0,
             "#0d0887"
            ],
            [
             0.1111111111111111,
             "#46039f"
            ],
            [
             0.2222222222222222,
             "#7201a8"
            ],
            [
             0.3333333333333333,
             "#9c179e"
            ],
            [
             0.4444444444444444,
             "#bd3786"
            ],
            [
             0.5555555555555556,
             "#d8576b"
            ],
            [
             0.6666666666666666,
             "#ed7953"
            ],
            [
             0.7777777777777778,
             "#fb9f3a"
            ],
            [
             0.8888888888888888,
             "#fdca26"
            ],
            [
             1,
             "#f0f921"
            ]
           ],
           "sequentialminus": [
            [
             0,
             "#0d0887"
            ],
            [
             0.1111111111111111,
             "#46039f"
            ],
            [
             0.2222222222222222,
             "#7201a8"
            ],
            [
             0.3333333333333333,
             "#9c179e"
            ],
            [
             0.4444444444444444,
             "#bd3786"
            ],
            [
             0.5555555555555556,
             "#d8576b"
            ],
            [
             0.6666666666666666,
             "#ed7953"
            ],
            [
             0.7777777777777778,
             "#fb9f3a"
            ],
            [
             0.8888888888888888,
             "#fdca26"
            ],
            [
             1,
             "#f0f921"
            ]
           ]
          },
          "colorway": [
           "#636efa",
           "#EF553B",
           "#00cc96",
           "#ab63fa",
           "#FFA15A",
           "#19d3f3",
           "#FF6692",
           "#B6E880",
           "#FF97FF",
           "#FECB52"
          ],
          "font": {
           "color": "#2a3f5f"
          },
          "geo": {
           "bgcolor": "white",
           "lakecolor": "white",
           "landcolor": "#E5ECF6",
           "showlakes": true,
           "showland": true,
           "subunitcolor": "white"
          },
          "hoverlabel": {
           "align": "left"
          },
          "hovermode": "closest",
          "mapbox": {
           "style": "light"
          },
          "paper_bgcolor": "white",
          "plot_bgcolor": "#E5ECF6",
          "polar": {
           "angularaxis": {
            "gridcolor": "white",
            "linecolor": "white",
            "ticks": ""
           },
           "bgcolor": "#E5ECF6",
           "radialaxis": {
            "gridcolor": "white",
            "linecolor": "white",
            "ticks": ""
           }
          },
          "scene": {
           "xaxis": {
            "backgroundcolor": "#E5ECF6",
            "gridcolor": "white",
            "gridwidth": 2,
            "linecolor": "white",
            "showbackground": true,
            "ticks": "",
            "zerolinecolor": "white"
           },
           "yaxis": {
            "backgroundcolor": "#E5ECF6",
            "gridcolor": "white",
            "gridwidth": 2,
            "linecolor": "white",
            "showbackground": true,
            "ticks": "",
            "zerolinecolor": "white"
           },
           "zaxis": {
            "backgroundcolor": "#E5ECF6",
            "gridcolor": "white",
            "gridwidth": 2,
            "linecolor": "white",
            "showbackground": true,
            "ticks": "",
            "zerolinecolor": "white"
           }
          },
          "shapedefaults": {
           "line": {
            "color": "#2a3f5f"
           }
          },
          "ternary": {
           "aaxis": {
            "gridcolor": "white",
            "linecolor": "white",
            "ticks": ""
           },
           "baxis": {
            "gridcolor": "white",
            "linecolor": "white",
            "ticks": ""
           },
           "bgcolor": "#E5ECF6",
           "caxis": {
            "gridcolor": "white",
            "linecolor": "white",
            "ticks": ""
           }
          },
          "title": {
           "x": 0.05
          },
          "xaxis": {
           "automargin": true,
           "gridcolor": "white",
           "linecolor": "white",
           "ticks": "",
           "title": {
            "standoff": 15
           },
           "zerolinecolor": "white",
           "zerolinewidth": 2
          },
          "yaxis": {
           "automargin": true,
           "gridcolor": "white",
           "linecolor": "white",
           "ticks": "",
           "title": {
            "standoff": 15
           },
           "zerolinecolor": "white",
           "zerolinewidth": 2
          }
         }
        },
        "width": 1200
       }
      }
     },
     "metadata": {},
     "output_type": "display_data"
    }
   ],
   "source": [
    "import plotly.graph_objects as go\n",
    "\n",
    "# Define nodes\n",
    "nodes = [\"Mailinglist\",     #0\n",
    "         \"Website\",         #1\n",
    "         \"In Pure\",         #2\n",
    "         \"Not in Pure\",     #3\n",
    "         \"In Scopus\",       #4\n",
    "         \"Not in Scopus\"]   #5\n",
    "\n",
    "# Define links\n",
    "links = [\n",
    "    {\"source\": 0, \"target\": 2, \"value\": len(df_persons[df_persons['source'] =='mailinglist'])},  # Mailinglist True -> In Pure True\n",
    "    {\"source\": 0, \"target\": 3, \"value\": len(df_names[df_names['source'] =='mailinglist']) - len(df_persons[df_persons['source'] =='mailinglist'])},   # Mailinglist True -> In Pure False\n",
    "    {\"source\": 1, \"target\": 2, \"value\": len(df_persons[df_persons['source'] =='website'])},  # Mailinglist False -> In Scopus True\n",
    "    {\"source\": 1, \"target\": 3, \"value\": len(df_names[df_names['source'] =='website']) - len(df_persons[df_persons['source'] =='website'])},  # Mailinglist False -> In Scopus False\n",
    "    {\"source\": 2, \"target\": 4, \"value\": len(df_persons[df_persons['scopusId'] !=''])},   # Website True -> In Pure True\n",
    "    {\"source\": 2, \"target\": 5, \"value\": len(df_persons[df_persons['scopusId'] ==''])},  # Website True -> In Pure False\n",
    "    {\"source\": 3, \"target\": 4, \"value\": 0},   # Website False -> In Scopus True\n",
    "    {\"source\": 3, \"target\": 5, \"value\": len(df_names)-len(df_persons)}   # Website False -> In Scopus False\n",
    "]\n",
    "\n",
    "# Create the Sankey diagram\n",
    "# fig.update_layout(title_text=\"S4S people\")\n",
    "fig = go.Figure(data=[go.Sankey(\n",
    "    node=dict(\n",
    "        pad=25,\n",
    "        thickness=30,\n",
    "        # line=dict(color=\"black\", width=0.5),\n",
    "        # label=nodes,\n",
    "        color = [\"skyblue\",\"violet\",\"#8ED973\",\"salmon\",'forestgreen','firebrick']\n",
    "    ),\n",
    "    link=dict(\n",
    "        source=[link['source'] for link in links],\n",
    "        target=[link['target'] for link in links],\n",
    "        value=[link['value'] for link in links],\n",
    "        # color='lightgrey'\n",
    "   )\n",
    ")],\n",
    "   layout=go.Layout(autosize=False,\n",
    "    width=1200,\n",
    "    height=700,))\n",
    "# color_for_nodes = [\"skyblue\",\"violet\",\"#8ED973\",\"salmon\",'forestgreen','firebrick']\n",
    "# fig.update_traces(node_color = color_for_nodes)\n",
    "\n",
    "\n",
    "\n",
    "\n",
    "fig.show()\n",
    "fig.write_html(\"plots/sankey_peopleS4S.html\")\n"
   ]
  },
  {
   "cell_type": "markdown",
   "metadata": {},
   "source": [
    "PLOTTING TO CHART STUDIO (IN ORDER TO EMBED THE WEBVIEW INTO POWERPOINT)"
   ]
  },
  {
   "cell_type": "code",
   "execution_count": 298,
   "metadata": {},
   "outputs": [],
   "source": [
    "import chart_studio\n",
    "chart_studio.tools.set_credentials_file(username='Tkagel', api_key='GzCJTnpLg05gfCd1hBUD')"
   ]
  },
  {
   "cell_type": "code",
   "execution_count": 300,
   "metadata": {},
   "outputs": [
    {
     "data": {
      "text/plain": [
       "'https://plotly.com/~Tkagel/1/'"
      ]
     },
     "execution_count": 300,
     "metadata": {},
     "output_type": "execute_result"
    }
   ],
   "source": [
    "import chart_studio.plotly as py\n",
    "test = data=[go.Sankey(\n",
    "    node=dict(\n",
    "        pad=25,\n",
    "        thickness=30,\n",
    "        # line=dict(color=\"black\", width=0.5),\n",
    "        label=nodes,\n",
    "        color = [\"skyblue\",\"violet\",\"#8ED973\",\"salmon\",'forestgreen','firebrick']\n",
    "    ),\n",
    "    link=dict(\n",
    "        source=[link['source'] for link in links],\n",
    "        target=[link['target'] for link in links],\n",
    "        value=[link['value'] for link in links],\n",
    "        # color='lightgrey'\n",
    "   )\n",
    ")]\n",
    "py.plot(test, filename = 'basic-line', auto_open=True)"
   ]
  },
  {
   "cell_type": "markdown",
   "metadata": {},
   "source": [
    "JOB TITLE PLOT"
   ]
  },
  {
   "cell_type": "code",
   "execution_count": 148,
   "metadata": {},
   "outputs": [],
   "source": [
    "import matplotlib.pyplot as plt\n",
    "df_lookup = pd.read_csv('lookup_table_new.csv',encoding='utf-16',delimiter='\\t',index_col=[0]).sort_index()\n",
    "df_roles = df_lookup\n",
    "df_roles['role'] = df_lookup['note']\n",
    "test_list = (df_roles['role'] == 'correct match').to_list()\n",
    "k=0\n",
    "for i in range(len(test_list)):\n",
    "    if test_list[i] == True:\n",
    "        test_list[i] = df_reduced['jobTitle'].loc[k]\n",
    "        k+=1\n",
    "    if test_list[i] == False:\n",
    "        test_list[i] = df_roles['role'].loc[i]\n",
    "        \n",
    "df_roles['role'] = test_list\n",
    "df_roles.to_csv('person_roles.csv',encoding='utf-16')"
   ]
  },
  {
   "cell_type": "code",
   "execution_count": 151,
   "metadata": {},
   "outputs": [],
   "source": [
    "df_roles = pd.read_csv('person_roles.csv',encoding='utf-16',delimiter='\\t')\n"
   ]
  },
  {
   "cell_type": "code",
   "execution_count": 155,
   "metadata": {},
   "outputs": [
    {
     "data": {
      "text/plain": [
       "0             Assistant Professor\n",
       "1                     PhD Student\n",
       "2                      Researcher\n",
       "3                          Decaan\n",
       "4             Assistant Professor\n",
       "                  ...            \n",
       "264                   PhD Student\n",
       "265                     not at UU\n",
       "266                       Student\n",
       "267    Education/Research Officer\n",
       "268                     not at UU\n",
       "Name: role, Length: 269, dtype: object"
      ]
     },
     "execution_count": 155,
     "metadata": {},
     "output_type": "execute_result"
    }
   ],
   "source": [
    "df_roles['role']"
   ]
  },
  {
   "cell_type": "code",
   "execution_count": 162,
   "metadata": {},
   "outputs": [
    {
     "data": {
      "text/plain": [
       "0             Assistant Professor\n",
       "1                     PhD Student\n",
       "2                      Researcher\n",
       "3                          Decaan\n",
       "4             Assistant Professor\n",
       "                  ...            \n",
       "264                   PhD Student\n",
       "265                     not at UU\n",
       "266                       Student\n",
       "267    Education/Research Officer\n",
       "268                     not at UU\n",
       "Name: role, Length: 269, dtype: object"
      ]
     },
     "execution_count": 162,
     "metadata": {},
     "output_type": "execute_result"
    }
   ],
   "source": [
    "df_roles['role'].apply(lambda x: str(x).strip())"
   ]
  },
  {
   "cell_type": "code",
   "execution_count": 187,
   "metadata": {},
   "outputs": [],
   "source": [
    "\n",
    "counted_roles = df_roles['role'].apply(lambda x: str(x).strip()).value_counts()\n",
    "counted_roles_plot = counted_roles[counted_roles > 5]\n",
    "counted_roles_plot.loc['Misc']  = counted_roles[counted_roles <= 5].sum()\n",
    "\n",
    "\n"
   ]
  },
  {
   "cell_type": "code",
   "execution_count": 199,
   "metadata": {},
   "outputs": [],
   "source": [
    "counted_roles_df = pd.DataFrame(counted_roles_plot)\n",
    "counted_roles_df['order'] = [3,8,5,1,2,7,6,9,4,10,0]\n",
    "counted_roles_df.reset_index(inplace=True)\n",
    "counted_roles_df.set_index('order',inplace=True)\n",
    "counted_roles_df.sort_index(inplace=True)"
   ]
  },
  {
   "cell_type": "code",
   "execution_count": 230,
   "metadata": {},
   "outputs": [
    {
     "data": {
      "image/png": "[encoded data removed]",
      "text/plain": [
       "<Figure size 640x480 with 1 Axes>"
      ]
     },
     "metadata": {},
     "output_type": "display_data"
    }
   ],
   "source": [
    "color_lookup = plt.cm.Greens(np.linspace(0.3,0.7,6))\n",
    "plt.pie(counted_roles_df['count'],\n",
    "        startangle=90,\n",
    "        counterclock=False,\n",
    "        labels=counted_roles_df['role'],\n",
    "        labeldistance=1.1,\n",
    "        radius=2,\n",
    "        colors=['indianred','indianred','indianred','skyblue',color_lookup[0],color_lookup[1],color_lookup[2],color_lookup[3],color_lookup[4],color_lookup[5],'lightgrey'],\n",
    "        wedgeprops={\"edgecolor\":\"white\",'linewidth': 1, 'linestyle': 'solid', 'antialiased': True}\n",
    "\n",
    "        );"
   ]
  }
 ],
 "metadata": {
  "kernelspec": {
   "display_name": "newenv",
   "language": "python",
   "name": "python3"
  },
  "language_info": {
   "codemirror_mode": {
    "name": "ipython",
    "version": 3
   },
   "file_extension": ".py",
   "mimetype": "text/x-python",
   "name": "python",
   "nbconvert_exporter": "python",
   "pygments_lexer": "ipython3",
   "version": "3.12.0"
  }
 },
 "nbformat": 4,
 "nbformat_minor": 2
}
