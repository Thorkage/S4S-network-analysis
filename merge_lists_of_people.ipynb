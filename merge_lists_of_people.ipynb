{
 "cells": [
  {
   "cell_type": "code",
   "execution_count": 2,
   "metadata": {},
   "outputs": [],
   "source": [
    "import pandas as pd\n",
    "df_website = pd.read_excel('persons_medewerkers.xlsx')\n",
    "df_website['source'] = 'website'\n",
    "df_website['fullname'] = df_website['First name'] + ' ' + df_website['Last name']\n",
    "df_website['fullname'] = df_website['fullname'].apply(lambda x: x.strip())\n",
    "df_website.rename({'First name':'firstname', 'Last name':'lastname'},axis=1,inplace=True)\n",
    "\n",
    "df_mailing = pd.read_csv('persons_mailinglist.csv',index_col=\"Index\",usecols=[0,1,2,3,4,5])\n",
    "df_mailing['source'] = 'mailinglist'\n",
    "df_mailing['fullname'] = df_mailing['firstname'].apply(lambda x: x.strip()) + ' ' + df_mailing['lastname'].apply(lambda x: x.strip()) "
   ]
  },
  {
   "cell_type": "code",
   "execution_count": 5,
   "metadata": {},
   "outputs": [],
   "source": [
    "df_merged = pd.merge(df_website, df_mailing, how='outer', on=['fullname','firstname','lastname','source'], left_on=None, right_on=None)\n",
    "df_merged.index.names = ['Index']\n",
    "df_merged.drop_duplicates('fullname',keep='first', inplace=True)\n",
    "df_merged.reset_index(drop=True,inplace=True)\n",
    "df_merged.to_csv('people_in_S4S.csv',index_label='Index')"
   ]
  }
 ],
 "metadata": {
  "kernelspec": {
   "display_name": "newenv",
   "language": "python",
   "name": "python3"
  },
  "language_info": {
   "codemirror_mode": {
    "name": "ipython",
    "version": 3
   },
   "file_extension": ".py",
   "mimetype": "text/x-python",
   "name": "python",
   "nbconvert_exporter": "python",
   "pygments_lexer": "ipython3",
   "version": "3.12.0"
  }
 },
 "nbformat": 4,
 "nbformat_minor": 2
}
